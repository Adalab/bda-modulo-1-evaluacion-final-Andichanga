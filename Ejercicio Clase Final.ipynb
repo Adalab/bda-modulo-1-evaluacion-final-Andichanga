{
 "cells": [
  {
   "cell_type": "code",
   "execution_count": 171,
   "metadata": {},
   "outputs": [],
   "source": [
    "class TiendaOnline:\n",
    "    \n",
    "    def __init__(self): #no los ponemos después de self porque no los damos en el momento\n",
    "        self.inventario = []\n",
    "        self.clientes = {}\n",
    "        self.ventas_totales = 0.0\n",
    "        self.stock_compra = []\n",
    "        \n",
    "    def agregar_producto(self, nombre, precio ,cantidad):\n",
    "        nuevo_producto = {'nombre': nombre, 'precio' : precio, 'cantidad' : cantidad }\n",
    "        for producto in self.inventario:\n",
    "            if producto['nombre'] == nombre:\n",
    "               producto['cantidad'] += cantidad\n",
    "               return\n",
    "        self.inventario.append(nuevo_producto)\n",
    "        self.actualizar_stock_compra()\n",
    "    \n",
    "    def ver_inventario(self):\n",
    "        for producto in self.inventario:\n",
    "            print(f\"Nombre: {producto['nombre']}, Precio: {producto['precio']}€, Cantidad: {producto['cantidad']}\")\n",
    "    \n",
    "    def buscar_producto(self, nombre):\n",
    "        for producto in self.inventario:\n",
    "            if producto['nombre'] == nombre:\n",
    "                print(f\"Nombre: {producto['nombre']}, Precio: {producto['precio']}€, Cantidad: {producto['cantidad']}\")\n",
    "                return\n",
    "    \n",
    "    def actualizar_stock(self, nombre, cantidad):\n",
    "        for producto in self.inventario:\n",
    "            if producto['nombre'] == nombre:\n",
    "                producto['cantidad'] += cantidad\n",
    "                self.actualizar_stock_compra()\n",
    "                return self.inventario\n",
    "        print(f\"El producto {nombre} no existe en el inventario.\")\n",
    "        \n",
    "    def eliminar_producto(self, nombre):\n",
    "        for producto in self.inventario:\n",
    "            if producto['nombre'] == nombre:\n",
    "               self.inventario.remove(producto)\n",
    "               self.actualizar_stock_compra()\n",
    "               return self.inventario\n",
    "        print(f\"El producto {nombre} no se ha eliminado porque no existe en el inventario.\")\n",
    "    \n",
    "    def calcular_valor_inventario(self):\n",
    "        valor_inventario = 0\n",
    "        for producto in self.inventario:\n",
    "            valor_inventario += (producto['precio'] * producto['cantidad'])\n",
    "        print(f\"El valor total del inventario es {valor_inventario}€\")\n",
    "    \n",
    "    def actualizar_stock_compra(self):\n",
    "        self.stock_compra = [producto['nombre'] for producto in self.inventario]\n",
    "        \n",
    "    def realizar_compra(self):\n",
    "        carrito = {}\n",
    "        total = 0\n",
    "        while True:\n",
    "            self.ver_inventario()\n",
    "            comprar_producto = input(\"Dime qué producto quieres comprar o escribe Salir para terminar.\")\n",
    "            if comprar_producto.capitalize() == \"Salir\":\n",
    "                break\n",
    "            elif comprar_producto not in self.stock_compra:\n",
    "                print(f'No tenemos {comprar_producto} en nuestro inventario, prueba a realizar otra compra.')\n",
    "                break\n",
    "            else:\n",
    "                cantidad_producto = int(input(\"Dime qué cantidad quieres comprar.\"))\n",
    "                for producto in self.inventario:\n",
    "                    if producto['nombre'] == comprar_producto:\n",
    "                        if producto['cantidad'] >= cantidad_producto:\n",
    "                            carrito.update({\"nombre\": comprar_producto,\"cantidad\": cantidad_producto})\n",
    "                            total += cantidad_producto * producto['precio']\n",
    "                            self.actualizar_stock(producto['nombre'], -cantidad_producto)\n",
    "                            print(f\"{comprar_producto} añadido al carrito, el total es: {total}€.\")\n",
    "                            continue\n",
    "                        else:\n",
    "                            print(f\"Quieres {cantidad_producto} {comprar_producto} y solo tengo {producto['cantidad']}.\")\n",
    "                            break"
   ]
  },
  {
   "cell_type": "code",
   "execution_count": null,
   "metadata": {},
   "outputs": [],
   "source": [
    "            stock = [self.inventario[\"nombre\"] for self.inventario in self.inventario]\n",
    "            print(stock)"
   ]
  },
  {
   "cell_type": "code",
   "execution_count": 172,
   "metadata": {},
   "outputs": [],
   "source": [
    "ModasHerminia = TiendaOnline()"
   ]
  },
  {
   "cell_type": "code",
   "execution_count": 173,
   "metadata": {},
   "outputs": [
    {
     "data": {
      "text/plain": [
       "[{'nombre': 'Camisa', 'precio': 5.5, 'cantidad': 3}]"
      ]
     },
     "execution_count": 173,
     "metadata": {},
     "output_type": "execute_result"
    }
   ],
   "source": [
    "#1. Método agregar_producto:\n",
    "ModasHerminia.agregar_producto('Camisa', 5.5, 3,)\n",
    "ModasHerminia.inventario"
   ]
  },
  {
   "cell_type": "code",
   "execution_count": 174,
   "metadata": {},
   "outputs": [],
   "source": [
    "ModasHerminia.agregar_producto('Pantalón', 15, 4,)\n",
    "ModasHerminia.agregar_producto('Vestido', 20, 5)\n",
    "ModasHerminia.agregar_producto('Pijama', 15, 20)\n",
    "ModasHerminia.agregar_producto('Calcetines', 3, 12)"
   ]
  },
  {
   "cell_type": "code",
   "execution_count": 175,
   "metadata": {},
   "outputs": [
    {
     "name": "stdout",
     "output_type": "stream",
     "text": [
      "Nombre: Camisa, Precio: 5.5€, Cantidad: 3\n",
      "Nombre: Pantalón, Precio: 15€, Cantidad: 4\n",
      "Nombre: Vestido, Precio: 20€, Cantidad: 5\n",
      "Nombre: Pijama, Precio: 15€, Cantidad: 20\n",
      "Nombre: Calcetines, Precio: 3€, Cantidad: 12\n"
     ]
    }
   ],
   "source": [
    "#2. Método ver_inventario\n",
    "ModasHerminia.ver_inventario()"
   ]
  },
  {
   "cell_type": "code",
   "execution_count": 176,
   "metadata": {},
   "outputs": [
    {
     "name": "stdout",
     "output_type": "stream",
     "text": [
      "Nombre: Camisa, Precio: 5.5€, Cantidad: 3\n"
     ]
    }
   ],
   "source": [
    "#3. Método buscar_producto:\n",
    "ModasHerminia.buscar_producto('Camisa')"
   ]
  },
  {
   "cell_type": "code",
   "execution_count": 177,
   "metadata": {},
   "outputs": [
    {
     "data": {
      "text/plain": [
       "[{'nombre': 'Camisa', 'precio': 5.5, 'cantidad': 6},\n",
       " {'nombre': 'Pantalón', 'precio': 15, 'cantidad': 4},\n",
       " {'nombre': 'Vestido', 'precio': 20, 'cantidad': 5},\n",
       " {'nombre': 'Pijama', 'precio': 15, 'cantidad': 20},\n",
       " {'nombre': 'Calcetines', 'precio': 3, 'cantidad': 12}]"
      ]
     },
     "execution_count": 177,
     "metadata": {},
     "output_type": "execute_result"
    }
   ],
   "source": [
    "#4. Método actualizar_stock:\n",
    "#Primero algo que sí que está en el inventario:\n",
    "ModasHerminia.actualizar_stock('Camisa', 3)"
   ]
  },
  {
   "cell_type": "code",
   "execution_count": 178,
   "metadata": {},
   "outputs": [
    {
     "name": "stdout",
     "output_type": "stream",
     "text": [
      "El producto Chaqueta no existe en el inventario.\n"
     ]
    }
   ],
   "source": [
    "#4. Método actualizar_stock:\n",
    "#Ahora algo que no que está en el inventario: Arreglar que no imprima el que no está por cada producto iterado\n",
    "ModasHerminia.actualizar_stock('Chaqueta', 3)"
   ]
  },
  {
   "cell_type": "code",
   "execution_count": 179,
   "metadata": {},
   "outputs": [],
   "source": [
    "ModasHerminia.agregar_producto('Pantalón', 15, 4,)\n",
    "ModasHerminia.agregar_producto('Vestido', 20, 5)\n",
    "ModasHerminia.agregar_producto('Pijama', 15, 20)\n",
    "ModasHerminia.agregar_producto('Calcetines', 3, 12)"
   ]
  },
  {
   "cell_type": "code",
   "execution_count": 180,
   "metadata": {},
   "outputs": [
    {
     "data": {
      "text/plain": [
       "[{'nombre': 'Camisa', 'precio': 5.5, 'cantidad': 6},\n",
       " {'nombre': 'Pantalón', 'precio': 15, 'cantidad': 8},\n",
       " {'nombre': 'Vestido', 'precio': 20, 'cantidad': 10},\n",
       " {'nombre': 'Pijama', 'precio': 15, 'cantidad': 40},\n",
       " {'nombre': 'Calcetines', 'precio': 3, 'cantidad': 24}]"
      ]
     },
     "execution_count": 180,
     "metadata": {},
     "output_type": "execute_result"
    }
   ],
   "source": [
    "ModasHerminia.inventario"
   ]
  },
  {
   "cell_type": "code",
   "execution_count": 181,
   "metadata": {},
   "outputs": [
    {
     "data": {
      "text/plain": [
       "[{'nombre': 'Pantalón', 'precio': 15, 'cantidad': 8},\n",
       " {'nombre': 'Vestido', 'precio': 20, 'cantidad': 10},\n",
       " {'nombre': 'Pijama', 'precio': 15, 'cantidad': 40},\n",
       " {'nombre': 'Calcetines', 'precio': 3, 'cantidad': 24}]"
      ]
     },
     "execution_count": 181,
     "metadata": {},
     "output_type": "execute_result"
    }
   ],
   "source": [
    "#5. Método eliminar_producto:\n",
    "#Primero algo que sí que está en el inventario:\n",
    "ModasHerminia.eliminar_producto('Camisa')"
   ]
  },
  {
   "cell_type": "code",
   "execution_count": 167,
   "metadata": {},
   "outputs": [
    {
     "name": "stdout",
     "output_type": "stream",
     "text": [
      "El producto peluche no se ha eliminado porque no existe en el inventario.\n"
     ]
    }
   ],
   "source": [
    "#5. Método eliminar_producto:\n",
    "#Ahora algo que no que está en el inventario:\n",
    "ModasHerminia.eliminar_producto('peluche')"
   ]
  },
  {
   "cell_type": "code",
   "execution_count": 182,
   "metadata": {},
   "outputs": [
    {
     "name": "stdout",
     "output_type": "stream",
     "text": [
      "El valor total del inventario es 992€\n"
     ]
    }
   ],
   "source": [
    "#5 Calcular valo inventario\n",
    "ModasHerminia.calcular_valor_inventario()"
   ]
  },
  {
   "cell_type": "code",
   "execution_count": 183,
   "metadata": {},
   "outputs": [
    {
     "data": {
      "text/plain": [
       "['Pantalón', 'Vestido', 'Pijama', 'Calcetines']"
      ]
     },
     "execution_count": 183,
     "metadata": {},
     "output_type": "execute_result"
    }
   ],
   "source": [
    "# Funciona la locura de stock_compra?\n",
    "ModasHerminia.stock_compra"
   ]
  },
  {
   "cell_type": "code",
   "execution_count": 185,
   "metadata": {},
   "outputs": [
    {
     "name": "stdout",
     "output_type": "stream",
     "text": [
      "Nombre: Pantalón, Precio: 15€, Cantidad: 8\n",
      "Nombre: Vestido, Precio: 20€, Cantidad: 10\n",
      "Nombre: Pijama, Precio: 15€, Cantidad: 40\n",
      "Nombre: Calcetines, Precio: 3€, Cantidad: 24\n",
      "Vestido añadido al carrito, el total es: 200€.\n",
      "Nombre: Pantalón, Precio: 15€, Cantidad: 8\n",
      "Nombre: Vestido, Precio: 20€, Cantidad: 0\n",
      "Nombre: Pijama, Precio: 15€, Cantidad: 40\n",
      "Nombre: Calcetines, Precio: 3€, Cantidad: 24\n",
      "Quieres 1 Vestido y solo tengo 0.\n",
      "Nombre: Pantalón, Precio: 15€, Cantidad: 8\n",
      "Nombre: Vestido, Precio: 20€, Cantidad: 0\n",
      "Nombre: Pijama, Precio: 15€, Cantidad: 40\n",
      "Nombre: Calcetines, Precio: 3€, Cantidad: 24\n",
      "No tenemos  en nuestro inventario, prueba a realizar otra compra.\n"
     ]
    }
   ],
   "source": [
    "ModasHerminia.realizar_compra()"
   ]
  },
  {
   "cell_type": "markdown",
   "metadata": {},
   "source": [
    "1. `inventario` (lista de diccionarios): Un atributo para almacenar los productos en el inventario.\n",
    "Cada producto debe ser representado como un diccionario con las siguientes claves: `'nombre'`, `'precio'`, y `'cantidad'`.\n",
    "Al principio deberá ser una lista vacía. Ejemplo de como debería ser:\n",
    "```python\n",
    "[{'nombre': 'Camisa', 'precio': 20, 'cantidad': 40},\n",
    "{'nombre': 'Pantalón', 'precio': 30, 'cantidad': 30}]\n",
    "```\n",
    "\n",
    "- Creo que lo tengo bien"
   ]
  },
  {
   "cell_type": "markdown",
   "metadata": {},
   "source": [
    "2. `clientes` (diccionario): Un atributo para llevar un registro de los clientes de la tienda.\n",
    "Cada cliente debe ser representado como un diccionario con las siguientes claves: `'nombre'` y `'email'`.\n",
    "Al inicio deberá ser un diccionario vacío. Además, cada cliente debe tener un historial de compras. Deberá parecerse a:\n",
    "```python\n",
    "{'Cliente1': {'email': 'cliente1@email.com', 'compras': []},\n",
    "'Cliente2': {'email': 'cliente2@email.com', 'compras': []}}\n",
    "```\n",
    "\n",
    "- Creo que lo tengo bien"
   ]
  },
  {
   "cell_type": "markdown",
   "metadata": {},
   "source": [
    "3. `ventas_totales` (float): Un atributo para llevar un registro de las ventas totales de la tienda.\n",
    "Inicializalo con valor 0.\n",
    "\n",
    "-Creo que lo tengo bien"
   ]
  },
  {
   "cell_type": "markdown",
   "metadata": {},
   "source": [
    "## Métodos:"
   ]
  },
  {
   "cell_type": "markdown",
   "metadata": {},
   "source": [
    "### 1. agregar_producto(self, nombre, precio, cantidad): HECHO\n",
    "- Este método agrega un producto al inventario o actualiza su cantidad si ya existe.\n",
    "- Debe recibir el nombre, precio y cantidad del producto como parámetros.\n",
    "- Itera a través del inventario y compara los nombres de los productos con el nombre proporcionado.\n",
    "- Si el producto ya existe, actualiza la cantidad. Es decir, a la cantidad que ya hay, le suma la que le hemos pasado. Y ya está.\n",
    "- Si no existe, agrega un nuevo producto al inventario."
   ]
  },
  {
   "cell_type": "markdown",
   "metadata": {},
   "source": [
    "### 2. ver_inventario(self): Muestra el inventario de productos con sus detalles. HECHO\n",
    "- Utiliza un bucle for para recorrer el inventario.\n",
    "- Imprime los detalles (nombre, precio, cantidad) de cada producto.\n",
    "- Debería verse:\n",
    "  - Nombre: Camisa, Precio: $20, Cantidad: 50\n",
    "  - Nombre: Pantalón, Precio: $30, Cantidad: 30\n",
    "  - Nombre: Zapatos, Precio: $50, Cantidad: 40\n",
    "  - Nombre: Camisa, Precio: $20, Cantidad: 50\n"
   ]
  },
  {
   "cell_type": "markdown",
   "metadata": {},
   "source": [
    "### 3. buscar_producto(self, nombre): Busca un producto en el inventario por nombre y muestra sus detalles si se encuentra. HECHO\n",
    "- Debe recibir el nombre del producto como parámetro.\n",
    "- Utiliza un bucle for para recorrer el inventario.\n",
    "- Compara los nombres de los productos con el nombre proporcionado.\n",
    "- Si se encuentra el producto, imprime sus detalles.\n",
    "- Debe imprimir algo así:\n",
    "  - Nombre: Camisa, Precio: $20, Cantidad: 40\n"
   ]
  },
  {
   "cell_type": "markdown",
   "metadata": {},
   "source": [
    "### 4. actualizar_stock(self, nombre, cantidad): Actualiza el stock de un producto en el inventario. HECHO\n",
    "- Debe recibir elnombre del producto y la cantidad a agregar o quitar como parámetros.\n",
    "- Utiliza un bucle for para recorrer el inventario.\n",
    "- Busca el producto por nombre.\n",
    "- Actualiza la cantidad según la entrada del usuario.\n",
    "- Si el producto no esta en el inventario muestra un mensaje indicándolo.\n"
   ]
  },
  {
   "cell_type": "markdown",
   "metadata": {},
   "source": [
    "### 5. eliminar_producto(self, nombre): Elimina un producto del inventario por nombre.\n",
    "- Debe recibir el nombre del producto como parámetro.\n",
    "- Utiliza un bucle for para recorrer el inventario.\n",
    "- Busca el producto por nombre.\n",
    "- Elimina el producto del inventario si existe.\n",
    "- Si el producto no esta en el inventario muestra un mensaje indicándolo.\n"
   ]
  },
  {
   "cell_type": "markdown",
   "metadata": {},
   "source": [
    "### 6. calcular_valor_inventario(self):\n",
    "- Calcula y muestra el valor total del inventario.\n",
    "- Utiliza un bucle for para calcular el valor total del inventario.\n",
    "- Itera a través del inventario y suma el valor de cada producto (precio x cantidad) y ve acumulando ese valor. Es decir, calcula el valor total del inventario. Ejemplo:\n",
    "- si tenemos 5 camisas que valen 5 euros\n",
    "- y 10 calcetines que valen 1 euro\n",
    "- este método te tiene que devolver: 35 euros\n",
    "- valor_camisas = 5 * 5\n",
    "- valor_calcetines = 10 * 1\n",
    "- valor_camisas + valor_calcetines = 357."
   ]
  },
  {
   "cell_type": "markdown",
   "metadata": {},
   "source": [
    "### 7. realizar_compra(self): Permite a un cliente realizar una compra seleccionando productos del inventario.\n",
    "- Debe interactuar con el cliente para seleccionar productos y calcular el costo total de la compra.\n",
    "- Crea un carrito vacío, que sea un diccionario donde poner el nombre del producto y la cantidad que compra.\n",
    "- Utiliza un bucle while para permitir al cliente realizar múltiples compras.\n",
    "- Muestra el inventario (self.ver_inventario()) y solicita al cliente ingresar el nombre del producto que desea comprar y luego la cantidad.\n",
    "- Si nos dice \"salir\", terminamos la compra.\n",
    "- Registra los productos seleccionados en un carrito y actualiza el inventario.\n",
    "- Calcula el costo total de la compra."
   ]
  }
 ],
 "metadata": {
  "kernelspec": {
   "display_name": "Python 3",
   "language": "python",
   "name": "python3"
  },
  "language_info": {
   "codemirror_mode": {
    "name": "ipython",
    "version": 3
   },
   "file_extension": ".py",
   "mimetype": "text/x-python",
   "name": "python",
   "nbconvert_exporter": "python",
   "pygments_lexer": "ipython3",
   "version": "3.11.10"
  }
 },
 "nbformat": 4,
 "nbformat_minor": 2
}
